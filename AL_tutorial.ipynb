{
 "cells": [
  {
   "cell_type": "markdown",
   "id": "7b46cd07",
   "metadata": {},
   "source": [
    "# Active learning of potential energy surfaces \n",
    "Active learning (AL) algorithms allows one to build machine learning algorithms with a reduced amount of data. In this tutorial we will learn some AL algorithms and how to use them to build potential-energy surfaces of molecules. "
   ]
  },
  {
   "cell_type": "code",
   "execution_count": null,
   "id": "efb60503",
   "metadata": {},
   "outputs": [],
   "source": [
    "# Install a pip package in the current Jupyter kernel\n",
    "import sys\n",
    "!{sys.executable} -m pip install numpy\n",
    "!{sys.executable} -m pip install tensorflow\n",
    "!{sys.executable} -m pip install Cython\n",
    "!{sys.executable} -m pip install scipy\n",
    "!{sys.executable} -m pip install h5py\n",
    "!pip install git+https://github.com/ntucllab/libact.git\n"
   ]
  },
  {
   "cell_type": "markdown",
   "id": "48895f51",
   "metadata": {},
   "source": [
    "## Reading data \n",
    "We will consider the example of building the PES of a pyrrole water dimer. For this we have apriori computed data from electronic strcutre theory. Let's start by reading and visualizing the data. "
   ]
  },
  {
   "cell_type": "code",
   "execution_count": 1,
   "id": "153612be",
   "metadata": {},
   "outputs": [],
   "source": [
    "import h5py as hp \n",
    "import numpy as np\n",
    "import matplotlib.pyplot as plt \n",
    "from sklearn.ensemble import RandomForestRegressor as RFR\n",
    "from sklearn.model_selection import train_test_split\n",
    "from sklearn.metrics import mean_squared_error\n",
    "from libact.base.dataset import Dataset\n",
    "from libact.base.interfaces import QueryStrategy"
   ]
  },
  {
   "cell_type": "code",
   "execution_count": 2,
   "id": "b55fbc3e",
   "metadata": {},
   "outputs": [],
   "source": [
    "filename = 'dataset.h5'\n",
    "items = {}\n",
    "def print_attrs(name, obj):\n",
    "    for index, elem in enumerate(name):\n",
    "        if elem == '/' in name:\n",
    "            key = name[0:index]\n",
    "            x = f.get(name)\n",
    "            x = np.asarray(x)\n",
    "            items[key] = x\n",
    "f = hp.File(filename, 'r')\n",
    "f.visititems(print_attrs)\n",
    "X = (items['ExpDistance'])\n",
    "Y = (items['Energies'])\n",
    "Y += np.abs(np.amin(Y))"
   ]
  },
  {
   "cell_type": "markdown",
   "id": "00a4d9e3",
   "metadata": {},
   "source": [
    "We will now plot the distribution of energies "
   ]
  },
  {
   "cell_type": "code",
   "execution_count": 3,
   "id": "d5dc3f03",
   "metadata": {},
   "outputs": [
    {
     "data": {
      "image/png": "[encoded data removed]",
      "text/plain": [
       "<Figure size 432x288 with 1 Axes>"
      ]
     },
     "metadata": {
      "needs_background": "light"
     },
     "output_type": "display_data"
    }
   ],
   "source": [
    "# compute the histogram of the energies\n",
    "bins = np.linspace(np.amin(Y), np.amax(Y), 200)    \n",
    "hists, edges = np.histogram(Y, bins=bins, density=True)\n",
    "\n",
    "#plot distribution of pool\n",
    "plt.bar(edges[:-1], 1000*hists, width=np.diff(edges), color='dimgray')\n",
    "plt.xlabel(\"Energy (cm$^{-1})$\", fontsize=14)\n",
    "plt.ylabel(\"$N/N_{tot}$  x  1000\", fontsize=14)\n",
    "plt.show()"
   ]
  },
  {
   "cell_type": "raw",
   "id": "bfeffe26",
   "metadata": {},
   "source": [
    "The plot shows that the majority of geometries correpond to electronic energies around 1800 $\\text{cm}^{-1}$. Let's now start to fit the data. Since active learning is an iterative procedure, one needs to be able to train models fast on the data. That is why we consider regression tree enesemble to fit the data.  "
   ]
  },
  {
   "cell_type": "code",
   "execution_count": 4,
   "id": "b8bae4f3",
   "metadata": {},
   "outputs": [
    {
     "name": "stdout",
     "output_type": "stream",
     "text": [
      "Generalization error of the model when trained on 51750 training examples is: 27.195416083620533\n"
     ]
    }
   ],
   "source": [
    "X, X_test, Y, Y_test = train_test_split(X, Y, test_size=0.1, random_state=3)\n",
    "# define the Random forest model \n",
    "Trees = RFR(n_estimators=100, max_features=12, max_depth=None,\n",
    "            min_samples_leaf=1, min_samples_split=2, bootstrap=False, \n",
    "            n_jobs=-1)\n",
    "# fit the data \n",
    "Trees.fit(X, Y)\n",
    "# evaluate the test error on a test dataset \n",
    "Error_RFR = np.sqrt(mean_squared_error(Y_test, Trees.predict(X_test)))\n",
    "print(f\"Generalization error of the model when trained on {Y.shape[0]} training examples is: {Error_RFR}\")"
   ]
  },
  {
   "cell_type": "markdown",
   "id": "3cb2b8a0",
   "metadata": {},
   "source": [
    "## Active learning \n",
    "The question now is whether we can achieve the same accuracy with a less amount of data using active learning algorithms. Let's start by writing an object that implements a query-by-committee strategy using the trees of a random forest regressor as the committee. We start by defining a labeler, i.e., an object that returns the energies corresponding to certain molecular geometries. In real application, the labeler is an electronic-structure solver."
   ]
  },
  {
   "cell_type": "code",
   "execution_count": 5,
   "id": "7877fa06",
   "metadata": {},
   "outputs": [],
   "source": [
    "Labeler = Y\n",
    "# define the size of the initially labeled data\n",
    "initial_size = 2000\n",
    "Indices = np.random.choice(np.arange(np.shape(Y)[0]), size=initial_size, replace=False) # to determine initial data\n",
    "Y = Y.tolist()\n",
    "for i in range(np.shape(Y)[0]):\n",
    "    if i not in Indices:\n",
    "        Y[i] = None\n",
    "Y = np.array(Y)\n",
    "# create a dataset object \n",
    "dataset = Dataset(X=X, y=Y)"
   ]
  },
  {
   "cell_type": "code",
   "execution_count": 6,
   "id": "29ec357d",
   "metadata": {},
   "outputs": [],
   "source": [
    "class QBCR(QueryStrategy):\n",
    "    \"\"\"QBC query strategy object.\n",
    "    Args:\n",
    "    BatchSize: int. The number of elements to query in a single AL iteration.\n",
    "    Trees: an ensemble of trees sklearn instance composed of n trees.\n",
    "    dataset: an object containing the labeled and unlabeled data.\n",
    "    Attribs:\n",
    "    make_query: choose n=BatchSize data points to query from the pool.\n",
    "    \"\"\"\n",
    "    def __init__(self, *args, **kwargs):\n",
    "\n",
    "        super().__init__(*args, **kwargs)\n",
    "        self.BatchSize = kwargs.pop('BatchSize', 1)\n",
    "        self.Trees = kwargs.pop('Trees', None)\n",
    "        if self.Trees is None:\n",
    "            raise TypeError(\n",
    "                \"__init__() missing required keyword-only argument: 'Trees'\"\n",
    "            )\n",
    "\n",
    "    def _standard_deviation(self, predictions):\n",
    "        return np.std(predictions, axis=0)\n",
    "\n",
    "    def make_query(self):\n",
    "        # get the unlabeled entries, i.e. the pool data\n",
    "        unlabeled_entry_ids, X_pool = self.dataset.get_unlabeled_entries()\n",
    "        if len(unlabeled_entry_ids)>self.BatchSize:\n",
    "            # Predict the energies of the unlabeled data\n",
    "            predictions = np.array([estimator.predict(X_pool) for estimator in self.Trees.estimators_])\n",
    "            # compute the standard deviation of predictions for every unlabeled datapoint\n",
    "            stddev = self._standard_deviation(predictions)\n",
    "            ask_idx = np.flip(np.argsort(stddev))[0:self.BatchSize]\n",
    "        else:\n",
    "            #The number of remaining unlabeled data is less than batch size, query the remaining data\n",
    "            ask_idx = np.arange(len(unlabeled_entry_ids))\n",
    "\n",
    "        return unlabeled_entry_ids[ask_idx]"
   ]
  },
  {
   "cell_type": "code",
   "execution_count": 7,
   "id": "66906608",
   "metadata": {},
   "outputs": [
    {
     "name": "stdout",
     "output_type": "stream",
     "text": [
      "Iteration: 0, size of labeled data: 2000, test error: 394.58520212764165 inverse centimeter\n",
      "Iteration: 1, size of labeled data: 3000, test error: 310.4995294371538 inverse centimeter\n",
      "Iteration: 2, size of labeled data: 4000, test error: 271.0478379481371 inverse centimeter\n",
      "Iteration: 3, size of labeled data: 5000, test error: 229.19607949561689 inverse centimeter\n",
      "Iteration: 4, size of labeled data: 6000, test error: 203.99898777265594 inverse centimeter\n",
      "Iteration: 5, size of labeled data: 7000, test error: 183.55387834992166 inverse centimeter\n",
      "Iteration: 6, size of labeled data: 8000, test error: 171.4468349584541 inverse centimeter\n",
      "Iteration: 7, size of labeled data: 9000, test error: 158.09904513347527 inverse centimeter\n",
      "Iteration: 8, size of labeled data: 10000, test error: 144.49418840535301 inverse centimeter\n",
      "Iteration: 9, size of labeled data: 11000, test error: 133.7115262938106 inverse centimeter\n",
      "Iteration: 10, size of labeled data: 12000, test error: 124.1293604726151 inverse centimeter\n",
      "Iteration: 11, size of labeled data: 13000, test error: 115.56733752452732 inverse centimeter\n",
      "Iteration: 12, size of labeled data: 14000, test error: 105.71522706840804 inverse centimeter\n",
      "Iteration: 13, size of labeled data: 15000, test error: 101.51092947576868 inverse centimeter\n",
      "Iteration: 14, size of labeled data: 16000, test error: 95.16085721268111 inverse centimeter\n",
      "Iteration: 15, size of labeled data: 17000, test error: 90.45814566906718 inverse centimeter\n",
      "Iteration: 16, size of labeled data: 18000, test error: 85.61012076202093 inverse centimeter\n",
      "Iteration: 17, size of labeled data: 19000, test error: 79.50964375529628 inverse centimeter\n",
      "Iteration: 18, size of labeled data: 20000, test error: 73.99404871813064 inverse centimeter\n",
      "Iteration: 19, size of labeled data: 21000, test error: 70.23851972629323 inverse centimeter\n",
      "Iteration: 20, size of labeled data: 22000, test error: 67.32901785109118 inverse centimeter\n",
      "Iteration: 21, size of labeled data: 23000, test error: 64.11562160070423 inverse centimeter\n",
      "Iteration: 22, size of labeled data: 24000, test error: 60.90575815464525 inverse centimeter\n",
      "Iteration: 23, size of labeled data: 25000, test error: 58.860086105908785 inverse centimeter\n",
      "Iteration: 24, size of labeled data: 26000, test error: 54.785659089662566 inverse centimeter\n",
      "Iteration: 25, size of labeled data: 27000, test error: 51.51711663053002 inverse centimeter\n",
      "Iteration: 26, size of labeled data: 28000, test error: 49.503245452302096 inverse centimeter\n",
      "Iteration: 27, size of labeled data: 29000, test error: 45.715142912983765 inverse centimeter\n",
      "Iteration: 28, size of labeled data: 30000, test error: 43.44226814004741 inverse centimeter\n",
      "Iteration: 29, size of labeled data: 31000, test error: 41.88621934219971 inverse centimeter\n",
      "Iteration: 30, size of labeled data: 32000, test error: 40.48607114057524 inverse centimeter\n",
      "Iteration: 31, size of labeled data: 33000, test error: 38.05916437599893 inverse centimeter\n",
      "Iteration: 32, size of labeled data: 34000, test error: 35.41858908177194 inverse centimeter\n",
      "Iteration: 33, size of labeled data: 35000, test error: 33.67757181479994 inverse centimeter\n",
      "Iteration: 34, size of labeled data: 36000, test error: 33.65896155897505 inverse centimeter\n",
      "Iteration: 35, size of labeled data: 37000, test error: 32.635704388535146 inverse centimeter\n",
      "Iteration: 36, size of labeled data: 38000, test error: 30.445362267248345 inverse centimeter\n",
      "Iteration: 37, size of labeled data: 39000, test error: 30.451610301656917 inverse centimeter\n",
      "Iteration: 38, size of labeled data: 40000, test error: 29.906711872830034 inverse centimeter\n",
      "Iteration: 39, size of labeled data: 41000, test error: 30.3366646528376 inverse centimeter\n",
      "Iteration: 40, size of labeled data: 42000, test error: 27.855053049858075 inverse centimeter\n",
      "Iteration: 41, size of labeled data: 43000, test error: 27.719765104626703 inverse centimeter\n",
      "Iteration: 42, size of labeled data: 44000, test error: 28.117241405142856 inverse centimeter\n",
      "Iteration: 43, size of labeled data: 45000, test error: 29.35087455654231 inverse centimeter\n",
      "Iteration: 44, size of labeled data: 46000, test error: 27.04933133988998 inverse centimeter\n",
      "Iteration: 45, size of labeled data: 47000, test error: 26.843780465450475 inverse centimeter\n",
      "Iteration: 46, size of labeled data: 48000, test error: 27.96906734388468 inverse centimeter\n",
      "Iteration: 47, size of labeled data: 49000, test error: 25.95221986463523 inverse centimeter\n",
      "Iteration: 48, size of labeled data: 50000, test error: 28.83917455117561 inverse centimeter\n",
      "Iteration: 49, size of labeled data: 51000, test error: 27.491416929738737 inverse centimeter\n"
     ]
    }
   ],
   "source": [
    "BatchSize = 1000 # number of elements to query at each active learning iteration\n",
    "iters = 0\n",
    "errors = []\n",
    "\n",
    "while dataset.len_unlabeled()>0: # While Pool isn't emtpy\n",
    "    # get labeled entries in the pool\n",
    "    X_L, y_L = dataset.get_labeled_entries()\n",
    "    # train a random forest regressor on the labeled data\n",
    "    Trees.fit(X_L, y_L)\n",
    "    # Initialize a QBC object\n",
    "    query_strategy = QBCR(Trees=Trees, BatchSize=BatchSize, dataset=dataset)\n",
    "    # Compute the root mean squared error of the RFR model on the OOP data\n",
    "    Error_RFR = np.sqrt(mean_squared_error(Y_test, Trees.predict(X_test)))\n",
    "    errors.append(Error_RFR)\n",
    "    print(f\"Iteration: {str(iters)}, size of labeled data: {X_L.shape[0]}, test error: {Error_RFR} inverse centimeter\")\n",
    "    # for analysis purposes we'll collect some data for AL Iteration 10 \n",
    "    if iters == 10: \n",
    "        y_sampled = y_L\n",
    "        yp = Trees.predict(X_test)\n",
    "    #Query new datapoints\n",
    "    ids = query_strategy.make_query()\n",
    "    # Label these datapoints and update the dataset\n",
    "    dataset.update(ids, Labeler[ids])\n",
    "    iters += 1\n"
   ]
  },
  {
   "cell_type": "markdown",
   "id": "28bd5c71",
   "metadata": {},
   "source": [
    "Now, let's plot these errors as a function of the number of training data. \n",
    "\n",
    "\n",
    "\n"
   ]
  },
  {
   "cell_type": "code",
   "execution_count": 8,
   "id": "566d5b83",
   "metadata": {
    "scrolled": true
   },
   "outputs": [],
   "source": [
    "n_training_data = [initial_size]\n",
    "for i in range(1,len(errors)): n_training_data.append(n_training_data[i-1]+BatchSize)\n"
   ]
  },
  {
   "cell_type": "code",
   "execution_count": 9,
   "id": "3687b760",
   "metadata": {
    "scrolled": false
   },
   "outputs": [
    {
     "data": {
      "image/png": "[encoded data removed]",
      "text/plain": [
       "<Figure size 432x288 with 1 Axes>"
      ]
     },
     "metadata": {
      "needs_background": "light"
     },
     "output_type": "display_data"
    }
   ],
   "source": [
    "plt.plot(n_training_data, errors)\n",
    "plt.xlabel(\"no. training data\")\n",
    "plt.ylabel(\"test error 1/cm\")\n",
    "plt.show()"
   ]
  },
  {
   "cell_type": "markdown",
   "id": "f23449f1",
   "metadata": {},
   "source": [
    "Now we plot the distribution of the points collected by QBC strategy\n",
    "\n"
   ]
  },
  {
   "cell_type": "code",
   "execution_count": 10,
   "id": "fd483061",
   "metadata": {},
   "outputs": [
    {
     "data": {
      "image/png": "[encoded data removed]",
      "text/plain": [
       "<Figure size 432x288 with 1 Axes>"
      ]
     },
     "metadata": {
      "needs_background": "light"
     },
     "output_type": "display_data"
    }
   ],
   "source": [
    "# compute the histogram of the energies\n",
    "bins = np.linspace(np.amin(y_sampled), np.amax(y_sampled), 200)    \n",
    "hists, edges = np.histogram(y_sampled, bins=bins, density=True)\n",
    "\n",
    "#plot distribution of pool\n",
    "plt.bar(edges[:-1], 1000*hists, width=np.diff(edges), color='dimgray')\n",
    "plt.xlabel(\"Energy (cm$^{-1})$\", fontsize=14)\n",
    "plt.ylabel(\"$N/N_{tot}$  x  1000\", fontsize=14)\n",
    "plt.show()"
   ]
  },
  {
   "cell_type": "code",
   "execution_count": 13,
   "id": "18cf641c",
   "metadata": {},
   "outputs": [
    {
     "data": {
      "text/plain": [
       "Text(0, 0.5, '|E_p-E_test|')"
      ]
     },
     "execution_count": 13,
     "metadata": {},
     "output_type": "execute_result"
    },
    {
     "data": {
      "image/png": "[encoded data removed]",
      "text/plain": [
       "<Figure size 432x288 with 1 Axes>"
      ]
     },
     "metadata": {
      "needs_background": "light"
     },
     "output_type": "display_data"
    }
   ],
   "source": [
    "plt.scatter(Y_test, np.abs(yp-Y_test))\n",
    "plt.xlabel(\"E test\")\n",
    "plt.ylabel(\"|E_p-E_test|\")"
   ]
  },
  {
   "cell_type": "markdown",
   "id": "a63fa143",
   "metadata": {},
   "source": [
    "## Summary and conclusion\n",
    "We have seen that the query by commmittee algorithm does indeed reduce the number of electronic structure calculations needed for building a PES. However, it collects a lot of outliers, which makes it perform poorly in low-energy regions. "
   ]
  },
  {
   "cell_type": "code",
   "execution_count": null,
   "id": "06911595",
   "metadata": {},
   "outputs": [],
   "source": []
  }
 ],
 "metadata": {
  "kernelspec": {
   "display_name": "Python 3 (ipykernel)",
   "language": "python",
   "name": "python3"
  },
  "language_info": {
   "codemirror_mode": {
    "name": "ipython",
    "version": 3
   },
   "file_extension": ".py",
   "mimetype": "text/x-python",
   "name": "python",
   "nbconvert_exporter": "python",
   "pygments_lexer": "ipython3",
   "version": "3.9.6"
  }
 },
 "nbformat": 4,
 "nbformat_minor": 5
}
